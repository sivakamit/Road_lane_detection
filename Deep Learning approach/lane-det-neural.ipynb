{
 "cells": [
  {
   "cell_type": "code",
   "execution_count": 1,
   "metadata": {
    "id": "ypZRh4wuhjFr"
   },
   "outputs": [],
   "source": [
    "import numpy as np\n",
    "import cv2\n",
    "# from scipy.misc import imresize\n",
    "from moviepy.editor import VideoFileClip\n",
    "from IPython.display import HTML\n",
    "from keras.models import model_from_json\n",
    "\n",
    "import pickle\n",
    "import matplotlib.image as pimg"
   ]
  },
  {
   "cell_type": "markdown",
   "metadata": {
    "id": "D23zIfr2hjFt",
    "scrolled": false
   },
   "source": [
    "## Load network model"
   ]
  },
  {
   "cell_type": "code",
   "execution_count": 2,
   "metadata": {
    "colab": {
     "base_uri": "https://localhost:8080/"
    },
    "id": "SDerxtfditLe",
    "outputId": "e38a1995-c809-459c-9119-10a5119e59cd"
   },
   "outputs": [],
   "source": [
    "# from google.colab import drive\n",
    "# drive.mount('/content/drive')"
   ]
  },
  {
   "cell_type": "code",
   "execution_count": 3,
   "metadata": {
    "id": "pXQn5yCQhjFt"
   },
   "outputs": [],
   "source": [
    "# Load Keras model\n",
    "json_file = open('full_CNN_model3.json', 'r')\n",
    "json_model = json_file.read()\n",
    "json_file.close()\n",
    "model = model_from_json(json_model)\n",
    "model.load_weights('full_CNN_model3.h5')"
   ]
  },
  {
   "cell_type": "code",
   "execution_count": 4,
   "metadata": {
    "id": "dMGV16jGhjFu"
   },
   "outputs": [],
   "source": [
    "# Class to average lanes with\n",
    "class Lanes():\n",
    "    def __init__(self):\n",
    "        self.recent_fit = []\n",
    "        self.avg_fit = []"
   ]
  },
  {
   "cell_type": "markdown",
   "metadata": {
    "id": "rPX3UxtChjFu"
   },
   "source": [
    "## Define to predict the result with CNN network model"
   ]
  },
  {
   "cell_type": "code",
   "execution_count": 5,
   "metadata": {
    "id": "vLJRCjp2hjFv"
   },
   "outputs": [],
   "source": [
    "def road_lines_image(imageIn):\n",
    "    \"\"\" Takes in a road image, re-sizes for the model,\n",
    "    predicts the lane to be drawn from the model in G color,\n",
    "    recreates an RGB image of a lane and merges with the\n",
    "    original road image.\n",
    "    \"\"\"\n",
    "    #crop to 720x1280, img[y: y + h, x: x + w], 300:940\n",
    "    t_image = imageIn[230:950, 0:1280]\n",
    "\n",
    "    size = (640, 1280, 3)\n",
    "    \n",
    "    image = cv2.resize(t_image, (640, 1280))\n",
    "    \n",
    "    # Get image ready for feeding into model\n",
    "    # small_img = imresize(image, (80, 160, 3))\n",
    "    small_img = cv2.resize(image, (160, 80))\n",
    "    small_img = np.array(small_img)\n",
    "    small_img = small_img[None,:,:,:]\n",
    "\n",
    "    # Make prediction with neural network (un-normalize value by multiplying by 255)\n",
    "    prediction = model.predict(small_img)[0] * 255\n",
    "\n",
    "    # Add lane prediction to list for averaging\n",
    "    lanes.recent_fit.append(prediction)\n",
    "    # Only using last five for average\n",
    "    if len(lanes.recent_fit) > 5:\n",
    "        lanes.recent_fit = lanes.recent_fit[1:]\n",
    "\n",
    "    # Calculate average detection\n",
    "    lanes.avg_fit = np.mean(np.array([i for i in lanes.recent_fit]), axis = 0)\n",
    "\n",
    "    # Generate fake R & B color dimensions, stack with G\n",
    "    blanks = np.zeros_like(lanes.avg_fit).astype(np.uint8)\n",
    "    lane_drawn = np.dstack((blanks, lanes.avg_fit, blanks))\n",
    "\n",
    "    # Re-size to match the original image\n",
    "    # lane_image = imresize(lane_drawn, image.shape)\n",
    "#     cv2_imshow(lane_drawn)\n",
    "    \n",
    "    # print(image.shape)\n",
    "    lane_image = cv2.resize(lane_drawn, (640, 1280))\n",
    "    # print(lane_image.shape)\n",
    "    # cv2_imshow(lane_image)\n",
    "    lane_img = np.asarray(lane_image)\n",
    "    # Merge the lane drawing onto the original image\n",
    "    # result = cv2.addWeighted(image, 1, lane_img, 1, 0.0)\n",
    "    result = np.uint8(0.35*(image)+0.65*(lane_img))\n",
    "    # cv2_imshow(result)\n",
    "    return result"
   ]
  },
  {
   "cell_type": "markdown",
   "metadata": {
    "id": "Jfv8yiAChjFw"
   },
   "source": [
    "## Set detecting data"
   ]
  },
  {
   "cell_type": "code",
   "execution_count": 6,
   "metadata": {
    "id": "eH6Dk-BChjFw"
   },
   "outputs": [],
   "source": [
    "lanes = Lanes()"
   ]
  },
  {
   "cell_type": "markdown",
   "metadata": {
    "id": "bqZbK6h4hjFw"
   },
   "source": [
    "## Draw image and load the detection result"
   ]
  },
  {
   "cell_type": "code",
   "execution_count": 7,
   "metadata": {
    "id": "z-JG1rkfhjFw"
   },
   "outputs": [],
   "source": [
    "def road_lines_fc(imageIn):\n",
    "    img_det = road_lines_image(imageIn)\n",
    "    cv2.imshow(\"result\", img_det)  \n",
    "\n",
    "    cv2.waitKey(1)"
   ]
  },
  {
   "cell_type": "code",
   "execution_count": 8,
   "metadata": {
    "colab": {
     "base_uri": "https://localhost:8080/",
     "height": 552
    },
    "id": "53xoC_X7pV2s",
    "outputId": "efa0fbd2-e319-4c00-d3e6-d69b6c01242a"
   },
   "outputs": [],
   "source": [
    "videoFeed = cv2.VideoCapture(\"test_video7.mp4\")\n",
    "\n",
    "while videoFeed.isOpened() :\n",
    "    (status, image) = videoFeed.read()\n",
    "    img_det = road_lines_image(image)\n",
    "    cv2.imshow(\"result\",img_det)  \n",
    "\n",
    "    k = cv2.waitKey(1)\n",
    "    if k == 27:\n",
    "        break\n"
   ]
  }
 ],
 "metadata": {
  "colab": {
   "collapsed_sections": [],
   "name": "dura_06_det_sam.ipynb",
   "provenance": []
  },
  "kernelspec": {
   "display_name": "Python 3",
   "language": "python",
   "name": "python3"
  },
  "language_info": {
   "codemirror_mode": {
    "name": "ipython",
    "version": 3
   },
   "file_extension": ".py",
   "mimetype": "text/x-python",
   "name": "python",
   "nbconvert_exporter": "python",
   "pygments_lexer": "ipython3",
   "version": "3.8.8"
  }
 },
 "nbformat": 4,
 "nbformat_minor": 1
}
